{
 "cells": [
  {
   "cell_type": "markdown",
   "metadata": {},
   "source": [
    "# Q1:\n"
   ]
  },
  {
   "cell_type": "markdown",
   "metadata": {},
   "source": [
    "Think of at least three kinds of your favorite pizza. Store these pizza names in a list, and then use a for loop to print the name of each pizza."
   ]
  },
  {
   "cell_type": "code",
   "execution_count": 1,
   "metadata": {},
   "outputs": [
    {
     "name": "stdout",
     "output_type": "stream",
     "text": [
      "chicken supreme\n",
      "behari chicken\n",
      "fajita\n"
     ]
    }
   ],
   "source": [
    "pizza_list=['chicken supreme','behari chicken','fajita']\n",
    "for a in pizza_list:\n",
    "    print(a)"
   ]
  },
  {
   "cell_type": "markdown",
   "metadata": {},
   "source": [
    "# Q2:"
   ]
  },
  {
   "cell_type": "markdown",
   "metadata": {},
   "source": [
    " Start with your last question , Modify your for loop to print a sentence using the name of the pizza instead of printing just the name of the pizza. For each pizza you should have one line of output containing a simple statement like I like pepperoni pizza"
   ]
  },
  {
   "cell_type": "code",
   "execution_count": 5,
   "metadata": {},
   "outputs": [
    {
     "name": "stdout",
     "output_type": "stream",
     "text": [
      "i like pepperoni pizza\n",
      "i like behari chicken\n",
      "i like fajita\n"
     ]
    }
   ],
   "source": [
    "pizza_list=[' pepperoni pizza',' behari chicken',' fajita']\n",
    "for a in pizza_list:\n",
    "    print(\"i like\"+a)"
   ]
  },
  {
   "cell_type": "markdown",
   "metadata": {},
   "source": [
    "# Q3:"
   ]
  },
  {
   "cell_type": "markdown",
   "metadata": {},
   "source": [
    "Use a for loop to print the numbers from 1 to 20, inclusive."
   ]
  },
  {
   "cell_type": "code",
   "execution_count": 8,
   "metadata": {},
   "outputs": [
    {
     "name": "stdout",
     "output_type": "stream",
     "text": [
      "1\n",
      "2\n",
      "3\n",
      "4\n",
      "5\n",
      "6\n",
      "7\n",
      "8\n",
      "9\n",
      "10\n",
      "11\n",
      "12\n",
      "13\n",
      "14\n",
      "15\n",
      "16\n",
      "17\n",
      "18\n",
      "19\n",
      "20\n"
     ]
    }
   ],
   "source": [
    "for a in range(1,21):\n",
    "    print(a)"
   ]
  },
  {
   "cell_type": "markdown",
   "metadata": {},
   "source": [
    "# Q4:"
   ]
  },
  {
   "cell_type": "markdown",
   "metadata": {},
   "source": [
    "Use the third argument of the range() function to make a list of the odd numbers from 1 to 20. Use a for loop to print each number."
   ]
  },
  {
   "cell_type": "code",
   "execution_count": 14,
   "metadata": {},
   "outputs": [
    {
     "name": "stdout",
     "output_type": "stream",
     "text": [
      "1\n",
      "3\n",
      "5\n",
      "7\n",
      "9\n",
      "11\n",
      "13\n",
      "15\n",
      "17\n",
      "19\n"
     ]
    }
   ],
   "source": [
    "def num(x,y,z):\n",
    "    for a in range(x,y,z):\n",
    "        print(a)\n",
    " \n",
    "num(1,20,2)"
   ]
  },
  {
   "cell_type": "markdown",
   "metadata": {},
   "source": [
    "# Q5:"
   ]
  },
  {
   "cell_type": "markdown",
   "metadata": {},
   "source": [
    "Make a list of the multiples of 3 from 3 to 30. Use a for loop to print the numbers in your list."
   ]
  },
  {
   "cell_type": "code",
   "execution_count": 16,
   "metadata": {},
   "outputs": [
    {
     "name": "stdout",
     "output_type": "stream",
     "text": [
      "3\n",
      "6\n",
      "9\n",
      "12\n",
      "15\n",
      "18\n",
      "21\n",
      "24\n",
      "27\n",
      "30\n"
     ]
    }
   ],
   "source": [
    "for a in range(3,31,3):\n",
    "    print(a)"
   ]
  },
  {
   "cell_type": "markdown",
   "metadata": {},
   "source": [
    "# Q6:"
   ]
  },
  {
   "cell_type": "code",
   "execution_count": 17,
   "metadata": {},
   "outputs": [
    {
     "name": "stdout",
     "output_type": "stream",
     "text": [
      "1\n",
      "8\n",
      "27\n",
      "64\n",
      "125\n",
      "216\n",
      "343\n",
      "512\n",
      "729\n",
      "1000\n"
     ]
    }
   ],
   "source": [
    "cube=[1,2,3,4,5,6,7,8,9,10]\n",
    "for a in cube:\n",
    "    print(a**3)"
   ]
  },
  {
   "cell_type": "markdown",
   "metadata": {},
   "source": [
    "# Q7:"
   ]
  },
  {
   "cell_type": "markdown",
   "metadata": {},
   "source": [
    "#Make a python program that conatains your nine favourite dishes in a list called foods.\n",
    "#Print the message, The first three items in the list are:.\n",
    "#Then use a slice to print the first three items from that program’s list.\n",
    "#Print the message, Three items from the middle of the list are:\n",
    "#Use a slice to print three items from the middle of the list.\n",
    "#Print the message, The last three items in the list are:\n",
    "#Use a slice to print the last three items in the list."
   ]
  },
  {
   "cell_type": "code",
   "execution_count": 19,
   "metadata": {},
   "outputs": [
    {
     "name": "stdout",
     "output_type": "stream",
     "text": [
      "The first three items in the list are: \n",
      "andawala burger\n",
      "briyani\n",
      "zinger\n"
     ]
    }
   ],
   "source": [
    "foods=['andawala burger','briyani','zinger','mutton kahari','chips','macroni','cabbage','kabab','dala_chawal']\n",
    "print(f\"The first three items in the list are: \")\n",
    "for a in foods[:3]:\n",
    "    print(a)"
   ]
  },
  {
   "cell_type": "code",
   "execution_count": 20,
   "metadata": {},
   "outputs": [
    {
     "name": "stdout",
     "output_type": "stream",
     "text": [
      "Three items from the middle of the list are:\n",
      "mutton kahari\n",
      "chips\n",
      "macroni\n"
     ]
    }
   ],
   "source": [
    "foods=['andawala burger','briyani','zinger','mutton kahari','chips','macroni','cabbage','kabab','dala_chawal']\n",
    "print(f\"Three items from the middle of the list are:\")\n",
    "for a in foods[3:6]:\n",
    "    print(a)"
   ]
  },
  {
   "cell_type": "code",
   "execution_count": 15,
   "metadata": {},
   "outputs": [
    {
     "name": "stdout",
     "output_type": "stream",
     "text": [
      "last three items in the list:\n",
      "cabbage\n",
      "kabab\n",
      "dala_chawal\n"
     ]
    }
   ],
   "source": [
    "foods=['andawala burger','briyani','zinger','mutton kahari','chips','macroni','cabbage','kabab','dala_chawal']\n",
    "print(f\"last three items in the list:\")\n",
    "for a in foods[6:9]:\n",
    "    print(a)"
   ]
  },
  {
   "cell_type": "markdown",
   "metadata": {},
   "source": [
    "# Q8:"
   ]
  },
  {
   "cell_type": "markdown",
   "metadata": {},
   "source": [
    "#Start with your program from your last Question8.\n",
    "#Make a copy of the list of foods, and call it friend_foods.\n",
    "#Then, do the following:\n",
    "#Add a new dish to the original list.\n",
    "#Add a different dish to the list friend_foodss.\n",
    "#Prove that you have two separate lists.\n",
    "#Print the message, My favorite pizzas are: and then use a for loop to print the first list.\n",
    "#Print the message,\n",
    "#My friend’s favorite foods are:, and then use a for loop to print the second list.\n",
    "#NOTE: Make sure each new dish is stored in the appropriate list."
   ]
  },
  {
   "cell_type": "code",
   "execution_count": 16,
   "metadata": {},
   "outputs": [
    {
     "name": "stdout",
     "output_type": "stream",
     "text": [
      "['andawala burger', 'briyani', 'zinger', 'mutton kahari', 'chips', 'macroni', 'cabbage', 'kabab', 'dala_chawal']\n"
     ]
    }
   ],
   "source": [
    "friend_foods=foods.copy()\n",
    "print(friend_foods)"
   ]
  },
  {
   "cell_type": "code",
   "execution_count": 17,
   "metadata": {},
   "outputs": [
    {
     "name": "stdout",
     "output_type": "stream",
     "text": [
      "['andawala burger', 'briyani', 'zinger', 'mutton kahari', 'chips', 'macroni', 'cabbage', 'kabab', 'dala_chawal', 'zinger roll']\n"
     ]
    }
   ],
   "source": [
    "foods.append(\"zinger roll\")\n",
    "print(foods)"
   ]
  },
  {
   "cell_type": "code",
   "execution_count": 18,
   "metadata": {},
   "outputs": [
    {
     "name": "stdout",
     "output_type": "stream",
     "text": [
      "andawala burger\n",
      "briyani\n",
      "zinger\n",
      "mutton kahari\n",
      "chips\n",
      "macroni\n",
      "cabbage\n",
      "kabab\n",
      "dala_chawal\n",
      "zinger roll\n"
     ]
    }
   ],
   "source": [
    " for a in foods:\n",
    "        print(a)"
   ]
  },
  {
   "cell_type": "code",
   "execution_count": 19,
   "metadata": {},
   "outputs": [
    {
     "name": "stdout",
     "output_type": "stream",
     "text": [
      "['andawala burger', 'briyani', 'zinger', 'mutton kahari', 'chips', 'macroni', 'cabbage', 'kabab', 'dala_chawal', 'chinesrise']\n"
     ]
    }
   ],
   "source": [
    "friend_foods.append(\"chinesrise\")\n",
    "print(friend_foods)"
   ]
  },
  {
   "cell_type": "code",
   "execution_count": 20,
   "metadata": {},
   "outputs": [
    {
     "name": "stdout",
     "output_type": "stream",
     "text": [
      "andawala burger\n",
      "briyani\n",
      "zinger\n",
      "mutton kahari\n",
      "chips\n",
      "macroni\n",
      "cabbage\n",
      "kabab\n",
      "dala_chawal\n",
      "chinesrise\n"
     ]
    }
   ],
   "source": [
    "for a in friend_foods:\n",
    "    print(a)"
   ]
  },
  {
   "cell_type": "markdown",
   "metadata": {},
   "source": [
    "# Q9:"
   ]
  },
  {
   "cell_type": "markdown",
   "metadata": {},
   "source": [
    "Take a user input from console line.Store it in a variable called Alien_color.\n",
    "\n",
    "If the alien’s color is red, print a statement that the player just earned 5 points for shooting the alien.\n",
    "\n",
    "If the alien’s color isn’t green, print a statement that the player just earned 10 points.\n",
    "\n",
    "If the alien's color isn't red or green , print a statment :, Alien is no more....."
   ]
  },
  {
   "cell_type": "code",
   "execution_count": 25,
   "metadata": {},
   "outputs": [
    {
     "name": "stdout",
     "output_type": "stream",
     "text": [
      "enter color: green\n",
      " the player just earned 10 points\n"
     ]
    }
   ],
   "source": [
    "alien_color=input(\"enter color: \")\n",
    "if alien_color==\"red\":\n",
    "    print('the player just earned 5 points for shooting the alien.')\n",
    "elif alien_color==\"green\":\n",
    "    print(' the player just earned 10 points')\n",
    "else:\n",
    "    print('Alien is no more...')"
   ]
  },
  {
   "cell_type": "markdown",
   "metadata": {},
   "source": [
    "# Q10:"
   ]
  },
  {
   "cell_type": "markdown",
   "metadata": {},
   "source": [
    "Write an if-elif-else chain that determines a person’s stage of life. Set a value for the variable age, and then:\n",
    "\n",
    "• If the person is less than 2 years old, print a message that the person is a baby.\n",
    "\n",
    "• If the person is at least 2 years old but less than 4, print a message that the person is a toddler.\n",
    "\n",
    "• If the person is at least 4 years old but less than 13, print a message that the person is a kid.\n",
    "\n",
    "• If the person is at least 13 years old but less than 20, print a message that the person is a teenager.\n",
    "\n",
    "• If the person is at least 20 years old but less than 65, print a message that the person is an adult.\n",
    "\n",
    "• If the person is age 65 or older, print a message that the person is an elder."
   ]
  },
  {
   "cell_type": "code",
   "execution_count": 34,
   "metadata": {},
   "outputs": [
    {
     "name": "stdout",
     "output_type": "stream",
     "text": [
      "Determines a person’s stage of life 11\n",
      "the person is a kid\n"
     ]
    }
   ],
   "source": [
    "persons_age=int(input(\"Determines a person’s stage of life \"))\n",
    "if (persons_age<2):\n",
    "    print('the person is a baby ')\n",
    "elif (persons_age<4):\n",
    "    print('the person is a toddler')\n",
    "elif (persons_age<13):\n",
    "    print('the person is a kid')\n",
    "elif (persons_age<20):\n",
    "    print('the person is a teenager')\n",
    "elif (persons_age<65):\n",
    "    print(' the person is an adult')\n",
    "elif(persons_age>65):\n",
    "    print(' the person is an elder')\n",
    "else:\n",
    "    print(\"bye byee\")\n",
    "    "
   ]
  },
  {
   "cell_type": "markdown",
   "metadata": {},
   "source": [
    "# Q11:\n"
   ]
  },
  {
   "cell_type": "markdown",
   "metadata": {},
   "source": [
    "Do the following to create a program that simulates how websites ensure that everyone has a unique username.\n",
    "\n",
    "• Make a list of five or more usernames called current_users.\n",
    "\n",
    "• Make another list of five usernames called new_users. Make sure one or two of the new usernames are also in the current_users list.\n",
    "\n",
    "• Loop through the new_users list to see if each new username has already been used. If it has, print a message that the person will need to enter a new username. If a username has not been used, print a message saying that the username is available.\n",
    "\n",
    "• Make sure your comparison is case insensitive. If 'John' has been used, 'JOHN' should not be accepted."
   ]
  },
  {
   "cell_type": "code",
   "execution_count": 40,
   "metadata": {},
   "outputs": [
    {
     "name": "stdout",
     "output_type": "stream",
     "text": [
      " muneeb  username has already been used\n",
      " talha  username is available \n",
      " ahmed  username has already been used\n",
      " farrukh  username is available \n",
      " valeed  username is available \n"
     ]
    }
   ],
   "source": [
    "current_users=['muneeb','talha','ahmed','farrukh','valeed']\n",
    "new_users=['bilal','muneeb','ahmed','amin','shahruk']\n",
    "for a in current_users:\n",
    "    if a in new_users:\n",
    "        print(f\" {a}  username has already been used\")\n",
    "    else:\n",
    "        print(f\" {a}  username is available \")\n",
    "        "
   ]
  },
  {
   "cell_type": "markdown",
   "metadata": {},
   "source": [
    "# Q12:"
   ]
  },
  {
   "cell_type": "markdown",
   "metadata": {},
   "source": [
    "Use a dictionary to store information about a person you know. Store their first name, last name, age, and the city in which they live. You should have keys such as first_name, last_name, age, and city. Print each piece of information stored in your dictionary"
   ]
  },
  {
   "cell_type": "code",
   "execution_count": 50,
   "metadata": {},
   "outputs": [],
   "source": [
    "store_info={}\n",
    "store_info['first_name']='khalid'\n",
    "store_info['last_name']='khan'\n",
    "store_info['age']=20\n",
    "store_info['city']='karachi'"
   ]
  },
  {
   "cell_type": "code",
   "execution_count": 55,
   "metadata": {},
   "outputs": [
    {
     "data": {
      "text/plain": [
       "{'first_name': 'khalid', 'last_name': 'khan', 'age': 20, 'city': 'karachi'}"
      ]
     },
     "execution_count": 55,
     "metadata": {},
     "output_type": "execute_result"
    }
   ],
   "source": [
    "store_info"
   ]
  },
  {
   "cell_type": "code",
   "execution_count": 52,
   "metadata": {},
   "outputs": [
    {
     "name": "stdout",
     "output_type": "stream",
     "text": [
      "first_name\n",
      "last_name\n",
      "age\n",
      "city\n"
     ]
    }
   ],
   "source": [
    "for keys in store_info:\n",
    "    print(keys)"
   ]
  },
  {
   "cell_type": "code",
   "execution_count": 57,
   "metadata": {},
   "outputs": [
    {
     "name": "stdout",
     "output_type": "stream",
     "text": [
      "first_name khalid\n",
      "last_name khan\n",
      "age 20\n",
      "city karachi\n"
     ]
    }
   ],
   "source": [
    "for key,val in store_info.items():\n",
    "    print(key,val)"
   ]
  },
  {
   "cell_type": "markdown",
   "metadata": {},
   "source": [
    "# Q13:"
   ]
  },
  {
   "cell_type": "markdown",
   "metadata": {},
   "source": [
    "Starts with your last question 12 , loop through the dictionary’s keys and values. When you’re sure that your loop works, add five more Python terms to your dictionary . When you run your program again, these new words and meanings should automatically be included in the output."
   ]
  },
  {
   "cell_type": "code",
   "execution_count": 58,
   "metadata": {},
   "outputs": [
    {
     "name": "stdout",
     "output_type": "stream",
     "text": [
      "first_name khalid\n",
      "last_name khan\n",
      "age 20\n",
      "city karachi\n"
     ]
    }
   ],
   "source": [
    "for key,val in store_info.items():\n",
    "    print(key,val)"
   ]
  },
  {
   "cell_type": "code",
   "execution_count": 59,
   "metadata": {},
   "outputs": [],
   "source": [
    "store_info['programming']='python'\n",
    "store_info['machine learning']='AI'\n",
    "store_info['HTml']='web'\n",
    "store_info['field']='engr'\n",
    "store_info['NN']='Deep learning'"
   ]
  },
  {
   "cell_type": "code",
   "execution_count": 68,
   "metadata": {},
   "outputs": [
    {
     "name": "stdout",
     "output_type": "stream",
     "text": [
      "first_name = khalid\n",
      "last_name = khan\n",
      "age = 20\n",
      "city = karachi\n",
      "programming = python\n",
      "machine learning = AI\n",
      "HTml = web\n",
      "field = engr\n",
      "NN = Deep learning\n"
     ]
    }
   ],
   "source": [
    "for key,val in store_info.items():\n",
    "    print(key,'=',val)\n"
   ]
  },
  {
   "cell_type": "markdown",
   "metadata": {},
   "source": [
    "# Q14:"
   ]
  },
  {
   "cell_type": "markdown",
   "metadata": {},
   "source": [
    "Make a dictionary containing three major rivers and the country each river runs through. One key-value pair might be 'nile': 'egypt'.\n",
    "\n",
    "• Use a loop to print a sentence about each river, such as The Nile runs through Egypt.\n",
    "\n",
    "NOTE: use upper case through keys and values."
   ]
  },
  {
   "cell_type": "code",
   "execution_count": 84,
   "metadata": {},
   "outputs": [
    {
     "name": "stdout",
     "output_type": "stream",
     "text": [
      "{'indus': 'sindh', 'dead sea': 'israil', 'yellow': 'chine'}\n"
     ]
    }
   ],
   "source": [
    "river_names={\"indus\":'sindh','dead sea':'israil','yellow':'chine'}\n",
    "print(river_names)\n"
   ]
  },
  {
   "cell_type": "code",
   "execution_count": 85,
   "metadata": {},
   "outputs": [
    {
     "name": "stdout",
     "output_type": "stream",
     "text": [
      "the INDUS runs through SINDH\n",
      "the DEAD SEA runs through ISRAIL\n",
      "the YELLOW runs through CHINE\n"
     ]
    }
   ],
   "source": [
    "for river,country in river_names.items():\n",
    "    print( 'the '+ river.upper() +\" runs through \"+country.upper())"
   ]
  },
  {
   "cell_type": "markdown",
   "metadata": {},
   "source": [
    "# Q15:"
   ]
  },
  {
   "cell_type": "markdown",
   "metadata": {},
   "source": [
    "Make several dictionaries, where the name of each dictionary is the name of a pet. In each dictionary, include the kind of animal and the owner’s name. Store these dictionaries in a list called pets. Next, loop through your list and as you do print everything you know about each pet."
   ]
  },
  {
   "cell_type": "code",
   "execution_count": 87,
   "metadata": {},
   "outputs": [
    {
     "name": "stdout",
     "output_type": "stream",
     "text": [
      "puppy is a  cat of  khansa\n",
      "timmy is a  dog of  nimra\n",
      "chinto is a  parrot of  nehel\n",
      "babu is a  monkey of  asim\n"
     ]
    }
   ],
   "source": [
    "puppy={\"name\":\"puppy\",\"kind\":\"cat\",\"owner\":\"khansa\"}\n",
    "timmy={\"name\":\"timmy\",\"kind\":\"dog\",\"owner\":\"nimra\"}\n",
    "chinto={\"name\":\"chinto\",\"kind\":\"parrot\",\"owner\":\"nehel\"}\n",
    "babu={\"name\":\"babu\",\"kind\":\"monkey\",\"owner\":\"asim\"}\n",
    "pets=[puppy,timmy,chinto,babu]\n",
    "for i in pets:\n",
    "    print(i[\"name\"], \"is a \" , i[\"kind\"] , \"of \" , i[\"owner\"])"
   ]
  },
  {
   "cell_type": "code",
   "execution_count": null,
   "metadata": {},
   "outputs": [],
   "source": []
  }
 ],
 "metadata": {
  "kernelspec": {
   "display_name": "Python 3",
   "language": "python",
   "name": "python3"
  },
  "language_info": {
   "codemirror_mode": {
    "name": "ipython",
    "version": 3
   },
   "file_extension": ".py",
   "mimetype": "text/x-python",
   "name": "python",
   "nbconvert_exporter": "python",
   "pygments_lexer": "ipython3",
   "version": "3.7.3"
  }
 },
 "nbformat": 4,
 "nbformat_minor": 2
}
